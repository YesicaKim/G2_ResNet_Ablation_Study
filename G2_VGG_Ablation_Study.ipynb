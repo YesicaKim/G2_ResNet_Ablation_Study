{
 "cells": [
  {
   "cell_type": "markdown",
   "metadata": {},
   "source": [
    "# Resnet Ablation Study\n",
    "\n",
    "- \"In the context of deep learning, what is an ablation study?\"\n",
    "\n",
    "저희가 지금부터 해볼 프로젝트는 애블레이션 연구(ablation study)입니다. 직역하자면 '제거 연구'정도가 되겠네요.\n",
    "\n",
    "- 딥러닝 논문은 여러 가지 방법들을 결합해서 어떤 문제를 해결하는 방법을 제시합니다. \n",
    "- 이때 제안한 방법들의 유효함을 증명하기 위해서 보통 딥러닝 논문에서는 해당 방법을 \"제거\"한 모델로 수행한 실험과, 해당 방법을 추가한 모델로 수행한 실험의 결과를 비교합니다. \n",
    "- 애블레이션 연구란 이처럼 \"아이디어를 제거해 봄으로써\" 제안한 방법이 어떻게 성능이나 문제에 해결에 효과를 주는지 확인하는 실험입니다."
   ]
  },
  {
   "cell_type": "markdown",
   "metadata": {},
   "source": [
    "# Ablation Study 실습 (1) CIFAR-10 데이터셋 준비하기\n",
    "\n",
    "ResNet이 막 공개된 시점으로 돌아갔다고 생각해 봅시다. 우리는 이 방법이 논문으로는 유효하다고 들었지만 직접 실험을 해 성능을 평가하고, 다른 실험에 적용해 보기로 합니다.\n",
    "\n",
    "ResNet의 성능을 평가하기 위해서 원래 논문과 동일한 이미지넷의 훈련/검증 데이터셋을 사용해 학습과 평가를 진행하면 좋겠지만, 우리는 컴퓨팅 자원이 부족하므로 이미지넷보다는 적당한 크기의 CIFAR-10 데이터셋으로 평가해보도록 합시다.\n",
    "지금부터 우리의 실험은 CIFAR-10에 대해 일반 네트워크와 ResNet을 구현해서 이 둘을 비교하여 ResNet 및 residual connection의 유효성을 확인하는 것입니다. ResNet에 대한 설명은 ResNet 이론 자료를 다시 한 번 확인하도록 합시다."
   ]
  },
  {
   "cell_type": "markdown",
   "metadata": {},
   "source": [
    "## 1) CIFAR-10\n",
    "\n",
    "그럼 우리가 이번에 모델을 사용해서 풀어야 할 문제가 무엇인지 확인해보도록 합시다. CIFAR-10 데이터셋은 10개 카테고리에 대해 총 6만 장의 이미지가 있습니다. 각 이미지들의 가로, 세로는 각각 32 픽셀(pixel)입니다. MNIST에서 손글씨가 나타내는 숫자를 분류해내었던 것처럼 CIFAR-10 데이터셋을 사용해 물체의 종류를 분류해보도록 하겠습니다.\n",
    "\n",
    "먼저 데이터셋을 준비하겠습니다. 컴퓨터에 텐서플로우에서 제공하는 tensorflow-datasets 패키지가 설치되어 있지 않다면 아래 명령어로 설치해 주세요.\n",
    "\n",
    "- $ pip install tensorflow-datasets"
   ]
  },
  {
   "cell_type": "code",
   "execution_count": 1,
   "metadata": {},
   "outputs": [],
   "source": [
    "# TensorFlow and tf.keras\n",
    "import tensorflow as tf\n",
    "from tensorflow import keras\n",
    "\n",
    "# Helper libraries\n",
    "import numpy as np\n",
    "import matplotlib.pyplot as plt\n",
    "\n",
    "import tensorflow_datasets as tfds"
   ]
  },
  {
   "cell_type": "code",
   "execution_count": 2,
   "metadata": {},
   "outputs": [
    {
     "data": {
      "text/plain": [
       "[PhysicalDevice(name='/physical_device:GPU:0', device_type='GPU')]"
      ]
     },
     "execution_count": 2,
     "metadata": {},
     "output_type": "execute_result"
    }
   ],
   "source": [
    "# Tensorflow가 활용할 GPU가 장착되어 있는지 확인해 봅니다.\n",
    "tf.config.list_physical_devices('GPU')"
   ]
  },
  {
   "cell_type": "markdown",
   "metadata": {},
   "source": [
    "CIFAR-10은 대용량 데이터셋은 아니지만 그래도 로드되는 데 꽤 긴 시간이 걸립니다. 잠깐 커피를 드시면서 숨을 돌리셔도 좋습니다.\n",
    "\n",
    "데이터셋이 준비되면 클래스의 수와 클래스에 따른 이름을 볼 수 있습니다. DatasetBuilder의 info를 통해 정보를 확인해 보세요.\n",
    "\n",
    "❗️ tfds.load()는 기본적으로 ~/tensorflow_datasets 경로에 데이터셋을 다운로드합니다. 데이터셋 크기가 커서 하나의 폴더에 모아놓고 사용하는 것도 좋은 방법이므로, ~/aiffel 프로젝트 폴더가 아닌 기본 경로에 다운 받아 사용하시면 됩니다. 혹시 데이터셋 경로를 바꾸고 싶으시다면, data_dir 인자를 사용하세요."
   ]
  },
  {
   "cell_type": "code",
   "execution_count": 3,
   "metadata": {},
   "outputs": [],
   "source": [
    "import urllib3\n",
    "urllib3.disable_warnings()\n",
    "\n",
    "#tfds.disable_progress_bar()   # 이 주석을 풀면 데이터셋 다운로드과정의 프로그레스바가 나타나지 않습니다.\n",
    "\n",
    "(ds_train, ds_test), ds_info = tfds.load(\n",
    "    'cifar10',\n",
    "    split=['train', 'test'],\n",
    "    shuffle_files=True,\n",
    "    with_info=True,\n",
    ")"
   ]
  },
  {
   "cell_type": "code",
   "execution_count": 4,
   "metadata": {},
   "outputs": [
    {
     "name": "stdout",
     "output_type": "stream",
     "text": [
      "FeaturesDict({\n",
      "    'id': Text(shape=(), dtype=tf.string),\n",
      "    'image': Image(shape=(32, 32, 3), dtype=tf.uint8),\n",
      "    'label': ClassLabel(shape=(), dtype=tf.int64, num_classes=10),\n",
      "})\n"
     ]
    }
   ],
   "source": [
    "# Tensorflow 데이터셋을 로드하면 꼭 feature 정보를 확인해 보세요. \n",
    "print(ds_info.features)"
   ]
  },
  {
   "cell_type": "code",
   "execution_count": 5,
   "metadata": {},
   "outputs": [
    {
     "name": "stdout",
     "output_type": "stream",
     "text": [
      "tf.Tensor(50000, shape=(), dtype=int64)\n",
      "tf.Tensor(10000, shape=(), dtype=int64)\n"
     ]
    }
   ],
   "source": [
    "# 데이터의 개수도 확인해 봅시다. \n",
    "print(tf.data.experimental.cardinality(ds_train))\n",
    "print(tf.data.experimental.cardinality(ds_test))"
   ]
  },
  {
   "cell_type": "markdown",
   "metadata": {},
   "source": [
    "Tensorflow의 데이터셋은 Numpy가 아니므로 ds_train.shape 같은 게 존재하지 않습니다. 위와 같은 방법으로 데이터셋의 이미지 shape와 전체 데이터의 갯수, 라벨 클래스의 갯수 등 가장 중요한 정보들이 잘 확인되었나요?"
   ]
  },
  {
   "cell_type": "markdown",
   "metadata": {},
   "source": [
    "## 2) Input Normalization\n",
    "\n",
    "우리는 \"가로 1920, 세로 1080 픽셀의 이미지\"처럼 픽셀의 수를 사용해 이미지의 크기를 말할 수 있는데요. 이때 한 픽셀이 가진 채널(channel) 값은 픽셀의 색을 표현합니다. RGB는 Red, Green, Blue로 세 가지 색을 조합해서 우리가 보는 다양한 색을 만들어내는 방법이죠. 그레이 스케일(gray scale)은 단순하게 흑과 백만을 표현하는 하나의 채널을 가진 이미지입니다. RGB나 그레이 스케일 외에도 HSV, CMYK 등 인쇄 또는 이미지 작업을 위해 사용되는 다양한 채널 체계가 있습니다.\n",
    "\n",
    "우리의 모델에 넣어주기 전에는 각 채널별 최댓값인 255로 정규화(normalize)를 해주어 이미지의 표현이 0과 1 사이로 들어오도록 만들어줍니다."
   ]
  },
  {
   "cell_type": "code",
   "execution_count": 6,
   "metadata": {},
   "outputs": [],
   "source": [
    "def normalize_and_resize_img(image, label):\n",
    "    \"\"\"Normalizes images: `uint8` -> `float32`.\"\"\"\n",
    "    # image = tf.image.resize(image, [32, 32])\n",
    "    return tf.cast(image, tf.float32) / 255., label"
   ]
  },
  {
   "cell_type": "code",
   "execution_count": 7,
   "metadata": {},
   "outputs": [],
   "source": [
    "def apply_normalize_on_dataset(ds, is_test=False, batch_size=16):\n",
    "    ds = ds.map(\n",
    "        normalize_and_resize_img, \n",
    "        num_parallel_calls=1\n",
    "    )\n",
    "    ds = ds.batch(batch_size)\n",
    "    if not is_test:\n",
    "        ds = ds.repeat()\n",
    "        ds = ds.shuffle(200)\n",
    "    ds = ds.prefetch(tf.data.experimental.AUTOTUNE)\n",
    "    return ds"
   ]
  },
  {
   "cell_type": "markdown",
   "metadata": {},
   "source": [
    "MNIST 데이터셋 클래스는 0부터 9까지의 숫자, 총 10가지가 있습니다. CIFAR-10 데이터셋 또한 이름에서 알 수 있듯이 10개 클래스를 가집니다. 아래 코드로 각 클래스가 어떻게 구성되는지, 어떤 이미지가 있는지 확인해 보세요!"
   ]
  },
  {
   "cell_type": "code",
   "execution_count": 8,
   "metadata": {},
   "outputs": [
    {
     "data": {
      "text/plain": [
       "10"
      ]
     },
     "execution_count": 8,
     "metadata": {},
     "output_type": "execute_result"
    }
   ],
   "source": [
    "ds_info.features[\"label\"].num_classes"
   ]
  },
  {
   "cell_type": "code",
   "execution_count": 9,
   "metadata": {},
   "outputs": [
    {
     "data": {
      "text/plain": [
       "['airplane',\n",
       " 'automobile',\n",
       " 'bird',\n",
       " 'cat',\n",
       " 'deer',\n",
       " 'dog',\n",
       " 'frog',\n",
       " 'horse',\n",
       " 'ship',\n",
       " 'truck']"
      ]
     },
     "execution_count": 9,
     "metadata": {},
     "output_type": "execute_result"
    }
   ],
   "source": [
    "ds_info.features[\"label\"].names"
   ]
  },
  {
   "cell_type": "code",
   "execution_count": 10,
   "metadata": {},
   "outputs": [
    {
     "data": {
      "image/png": "[encoded data removed]",
      "text/plain": [
       "<Figure size 648x648 with 9 Axes>"
      ]
     },
     "metadata": {},
     "output_type": "display_data"
    }
   ],
   "source": [
    "fig = tfds.show_examples(ds_train, ds_info)"
   ]
  },
  {
   "cell_type": "code",
   "execution_count": 11,
   "metadata": {},
   "outputs": [
    {
     "data": {
      "image/png": "[encoded data removed]",
      "text/plain": [
       "<Figure size 648x648 with 9 Axes>"
      ]
     },
     "metadata": {},
     "output_type": "display_data"
    }
   ],
   "source": [
    "fig = tfds.show_examples(ds_test, ds_info)"
   ]
  },
  {
   "cell_type": "markdown",
   "metadata": {},
   "source": [
    "모델의 학습을 위한 데이터셋에 대한 확인은 충분히 한 것 같습니다. 이제 본격적으로 코딩을 하면서 모델을 직접 빌딩하는 시간을 갖도록 하겠습니다."
   ]
  },
  {
   "cell_type": "markdown",
   "metadata": {},
   "source": [
    "## Ablation Study 실습 (2) 블록 구성하기\n",
    "모델을 프로그램으로 구현하는 과정에서는 논문의 모델을 그대로 구현하는 것도 중요하지만, 구현 시에 반복되는 부분을 줄여서 하이퍼파라미터 또는 변수를 변경하거나 모델 구조가 변경될 때 손쉽게 바꿀 수 있도록 만들어 놓는 것이 필요합니다.\n",
    "\n",
    "최근 나오는 일반적인 딥러닝 모델에서 이렇게 주요 구조를 모듈화 시켜 조금씩 바꾸어 쓸 수 있는 단위를 블록(block) 이라고 부릅니다. 레이어(layer) 는 기본적으로 텐서플로우(TensorFlow), 케라스(Keras), 파이토치(PyTorch) 등에서 기본적으로 제공하는 단위입니다. 우리는 여기서 한 단계 위인 \"블록\"을 단위로 모델을 만들 수 있어야 합니다.\n",
    "\n",
    "프로젝트로 구현할 ResNet을 보면 ResNet-18, 34, 50, 101, 152로 다섯 가지 네트워크가 있습니다. 각 네트워크를 하나씩 구현하는 방법도 있지만 매우 수고스럽고 변경사항이 생기면 모두 고쳐줘야 하는 불편함이 생기게 됩니다. 따라서 이후 실습에서 우리는 ResNet의 기본 구조인 블록을 먼저 구현하겠습니다.\n",
    "\n",
    "ResNet을 바로 구현하는 것은 어려울 수 있으므로, 지금부터 조금 더 간단한 블록이 반복되는 VGG를 예시로 구현해 보겠습니다."
   ]
  },
  {
   "cell_type": "markdown",
   "metadata": {},
   "source": [
    "## VGG 기본 블록 만들기\n",
    "\n",
    "![VGG](vgg_structure.max-800x600.png)\n",
    "\n",
    "VGG는 여러 가지 버전이 있습니다. 이 중 VGG의 VGG-16과 VGG-19의 기본 구조가 되는 블록을 만든다고 가정하고 블록을 구현해 봅시다.\n",
    "\n",
    "블록을 구현하기 위해 모델 구조의 특징을 짚어보겠습니다. VGG의 블록은 개략적으로 CNN 레이어 여러 개와 Max pooling 레이어 한 개로 이루어집니다. CNN은 모두 커널 크기가 3x3 라는 대표적인 특징을 가지고 있습니다. 그리고 블록 내 CNN 레이어의 채널은 하나로 유지되지만 서로 다른 블록 간 CNN 레이어의 채널 수는 다를 수 있습니다. 블록에 따라서 CNN 레이어의 갯수 또한 달라집니다. 블록의 마지막에는 항상 Max Pooling 레이어가 붙습니다. 따라서 우리의 블록은 CNN 레이어 여러 개와 Max pooling 레이어 한 개로 이루어질 것이고, CNN의 레이어 수와 채널을 조절할 수 있어야 합니다.\n",
    "\n",
    "block_num은 레이어의 이름을 붙여주기 위해서 추가되었고 input_shape는 summary를 출력하기 위해서 넣어주었습니다."
   ]
  },
  {
   "cell_type": "code",
   "execution_count": 12,
   "metadata": {},
   "outputs": [],
   "source": [
    "# function for building VGG Block\n",
    "\n",
    "def build_vgg_block(input_layer,\n",
    "                    num_cnn=3, \n",
    "                    channel=64,\n",
    "                    block_num=1,\n",
    "                   ):\n",
    "    # 입력 레이어\n",
    "    x = input_layer\n",
    "\n",
    "    # CNN 레이어\n",
    "    for cnn_num in range(num_cnn):\n",
    "        x = keras.layers.Conv2D(\n",
    "            filters=channel,\n",
    "            kernel_size=(3,3),\n",
    "            activation='relu',\n",
    "            kernel_initializer='he_normal',\n",
    "            padding='same',\n",
    "            name=f'block{block_num}_conv{cnn_num}'\n",
    "        )(x)    \n",
    "\n",
    "    # Max Pooling 레이어\n",
    "    x = keras.layers.MaxPooling2D(\n",
    "        pool_size=(2, 2),\n",
    "        strides=2,\n",
    "        name=f'block{block_num}_pooling'\n",
    "    )(x)\n",
    "\n",
    "    return x"
   ]
  },
  {
   "cell_type": "markdown",
   "metadata": {},
   "source": [
    "이제 위에서 만든 VGG 블록을 추가하는 함수를 이용해서 input_layer 에 추가를 해 봅시다. 입력 레이어는 아까 데이터셋에서 확인한 32, 32의 가로 세로 크기를 가지고 채널로 3을 가지므로 (32,32,3) 이 됩니다. 이 입력 레이어를 인자로 받아 build_vgg_block() 는 블록의 레이어를 build하고 출력값을 얻을 수 있습니다. 이제 케라스의 Model 클래스에서 input과 output을 정의해주면 간단히 블록의 모델을 확인해볼 수 있습니다.\n",
    "\n"
   ]
  },
  {
   "cell_type": "code",
   "execution_count": 13,
   "metadata": {},
   "outputs": [],
   "source": [
    "vgg_input_layer = keras.layers.Input(shape=(32,32,3))   # 입력 레이어 생성\n",
    "vgg_block_output = build_vgg_block(vgg_input_layer)    # VGG 블록 생성"
   ]
  },
  {
   "cell_type": "code",
   "execution_count": 14,
   "metadata": {},
   "outputs": [
    {
     "name": "stdout",
     "output_type": "stream",
     "text": [
      "Model: \"model\"\n",
      "_________________________________________________________________\n",
      "Layer (type)                 Output Shape              Param #   \n",
      "=================================================================\n",
      "input_1 (InputLayer)         [(None, 32, 32, 3)]       0         \n",
      "_________________________________________________________________\n",
      "block1_conv0 (Conv2D)        (None, 32, 32, 64)        1792      \n",
      "_________________________________________________________________\n",
      "block1_conv1 (Conv2D)        (None, 32, 32, 64)        36928     \n",
      "_________________________________________________________________\n",
      "block1_conv2 (Conv2D)        (None, 32, 32, 64)        36928     \n",
      "_________________________________________________________________\n",
      "block1_pooling (MaxPooling2D (None, 16, 16, 64)        0         \n",
      "=================================================================\n",
      "Total params: 75,648\n",
      "Trainable params: 75,648\n",
      "Non-trainable params: 0\n",
      "_________________________________________________________________\n"
     ]
    }
   ],
   "source": [
    "# 블록 1개짜리 model 생성\n",
    "model = keras.Model(inputs=vgg_input_layer, outputs=vgg_block_output)  \n",
    "\n",
    "model.summary()"
   ]
  },
  {
   "cell_type": "markdown",
   "metadata": {},
   "source": [
    "## Ablation Study 실습 (3) VGG Complete Model\n",
    "이제 기본적인 블록을 만들 수 있는 함수를 만들었으니 이를 합쳐서 전체 모델을 만들 수 있는 함수를 만들어보겠습니다."
   ]
  },
  {
   "cell_type": "markdown",
   "metadata": {},
   "source": [
    "### 1) VGG-16\n",
    "먼저 작은 네트워크인 VGG-16을 먼저 만들어 보겠습니다. 블록 내의 CNN 레이어 수와 채널 수는 블록마다 달라집니다. 이는 VGG-16과 VGG-19에 따라서 같이 변화되므로 함수에 전달되어야 합니다. 여기서는 각 블록 별 CNN의 수와 채널을 리스트로 전달했습니다."
   ]
  },
  {
   "cell_type": "code",
   "execution_count": 15,
   "metadata": {},
   "outputs": [],
   "source": [
    "# VGG 모델 자체를 생성하는 함수입니다.\n",
    "def build_vgg(input_shape=(32,32,3),\n",
    "              num_cnn_list=[2,2,3,3,3],\n",
    "              channel_list=[64,128,256,512,512],\n",
    "              num_classes=10):\n",
    "    \n",
    "    assert len(num_cnn_list) == len(channel_list) #모델을 만들기 전에 config list들이 같은 길이인지 확인합니다.\n",
    "    \n",
    "    input_layer = keras.layers.Input(shape=input_shape)  # input layer를 만들어둡니다.\n",
    "    output = input_layer\n",
    "    \n",
    "    # config list들의 길이만큼 반복해서 블록을 생성합니다.\n",
    "    for i, (num_cnn, channel) in enumerate(zip(num_cnn_list, channel_list)):\n",
    "        output = build_vgg_block(\n",
    "            output,\n",
    "            num_cnn=num_cnn, \n",
    "            channel=channel,\n",
    "            block_num=i\n",
    "        )\n",
    "        \n",
    "    output = keras.layers.Flatten(name='flatten')(output)\n",
    "    output = keras.layers.Dense(4096, activation='relu', name='fc1')(output)\n",
    "    output = keras.layers.Dense(4096, activation='relu', name='fc2')(output)\n",
    "    output = keras.layers.Dense(num_classes, activation='softmax', name='predictions')(output)\n",
    "    \n",
    "    model = keras.Model(\n",
    "        inputs=input_layer, \n",
    "        outputs=output\n",
    "    )\n",
    "\n",
    "    return model"
   ]
  },
  {
   "cell_type": "code",
   "execution_count": 16,
   "metadata": {},
   "outputs": [
    {
     "name": "stdout",
     "output_type": "stream",
     "text": [
      "Model: \"model_1\"\n",
      "_________________________________________________________________\n",
      "Layer (type)                 Output Shape              Param #   \n",
      "=================================================================\n",
      "input_2 (InputLayer)         [(None, 32, 32, 3)]       0         \n",
      "_________________________________________________________________\n",
      "block0_conv0 (Conv2D)        (None, 32, 32, 64)        1792      \n",
      "_________________________________________________________________\n",
      "block0_conv1 (Conv2D)        (None, 32, 32, 64)        36928     \n",
      "_________________________________________________________________\n",
      "block0_pooling (MaxPooling2D (None, 16, 16, 64)        0         \n",
      "_________________________________________________________________\n",
      "block1_conv0 (Conv2D)        (None, 16, 16, 128)       73856     \n",
      "_________________________________________________________________\n",
      "block1_conv1 (Conv2D)        (None, 16, 16, 128)       147584    \n",
      "_________________________________________________________________\n",
      "block1_pooling (MaxPooling2D (None, 8, 8, 128)         0         \n",
      "_________________________________________________________________\n",
      "block2_conv0 (Conv2D)        (None, 8, 8, 256)         295168    \n",
      "_________________________________________________________________\n",
      "block2_conv1 (Conv2D)        (None, 8, 8, 256)         590080    \n",
      "_________________________________________________________________\n",
      "block2_conv2 (Conv2D)        (None, 8, 8, 256)         590080    \n",
      "_________________________________________________________________\n",
      "block2_pooling (MaxPooling2D (None, 4, 4, 256)         0         \n",
      "_________________________________________________________________\n",
      "block3_conv0 (Conv2D)        (None, 4, 4, 512)         1180160   \n",
      "_________________________________________________________________\n",
      "block3_conv1 (Conv2D)        (None, 4, 4, 512)         2359808   \n",
      "_________________________________________________________________\n",
      "block3_conv2 (Conv2D)        (None, 4, 4, 512)         2359808   \n",
      "_________________________________________________________________\n",
      "block3_pooling (MaxPooling2D (None, 2, 2, 512)         0         \n",
      "_________________________________________________________________\n",
      "block4_conv0 (Conv2D)        (None, 2, 2, 512)         2359808   \n",
      "_________________________________________________________________\n",
      "block4_conv1 (Conv2D)        (None, 2, 2, 512)         2359808   \n",
      "_________________________________________________________________\n",
      "block4_conv2 (Conv2D)        (None, 2, 2, 512)         2359808   \n",
      "_________________________________________________________________\n",
      "block4_pooling (MaxPooling2D (None, 1, 1, 512)         0         \n",
      "_________________________________________________________________\n",
      "flatten (Flatten)            (None, 512)               0         \n",
      "_________________________________________________________________\n",
      "fc1 (Dense)                  (None, 4096)              2101248   \n",
      "_________________________________________________________________\n",
      "fc2 (Dense)                  (None, 4096)              16781312  \n",
      "_________________________________________________________________\n",
      "predictions (Dense)          (None, 10)                40970     \n",
      "=================================================================\n",
      "Total params: 33,638,218\n",
      "Trainable params: 33,638,218\n",
      "Non-trainable params: 0\n",
      "_________________________________________________________________\n"
     ]
    }
   ],
   "source": [
    "# 기본값을 그대로 사용해서 VGG 모델을 만들면 VGG-16이 됩니다.\n",
    "vgg_16 = build_vgg()\n",
    "\n",
    "vgg_16.summary()"
   ]
  },
  {
   "cell_type": "markdown",
   "metadata": {},
   "source": [
    "### 2) VGG-19\n",
    "위에서 16을 만들어봤으니 쉽게 구성(configuration)을 바꿔서 VGG-19를 만들 수 있습니다."
   ]
  },
  {
   "cell_type": "code",
   "execution_count": 17,
   "metadata": {},
   "outputs": [
    {
     "name": "stdout",
     "output_type": "stream",
     "text": [
      "Model: \"model_2\"\n",
      "_________________________________________________________________\n",
      "Layer (type)                 Output Shape              Param #   \n",
      "=================================================================\n",
      "input_3 (InputLayer)         [(None, 32, 32, 3)]       0         \n",
      "_________________________________________________________________\n",
      "block0_conv0 (Conv2D)        (None, 32, 32, 64)        1792      \n",
      "_________________________________________________________________\n",
      "block0_conv1 (Conv2D)        (None, 32, 32, 64)        36928     \n",
      "_________________________________________________________________\n",
      "block0_pooling (MaxPooling2D (None, 16, 16, 64)        0         \n",
      "_________________________________________________________________\n",
      "block1_conv0 (Conv2D)        (None, 16, 16, 128)       73856     \n",
      "_________________________________________________________________\n",
      "block1_conv1 (Conv2D)        (None, 16, 16, 128)       147584    \n",
      "_________________________________________________________________\n",
      "block1_pooling (MaxPooling2D (None, 8, 8, 128)         0         \n",
      "_________________________________________________________________\n",
      "block2_conv0 (Conv2D)        (None, 8, 8, 256)         295168    \n",
      "_________________________________________________________________\n",
      "block2_conv1 (Conv2D)        (None, 8, 8, 256)         590080    \n",
      "_________________________________________________________________\n",
      "block2_conv2 (Conv2D)        (None, 8, 8, 256)         590080    \n",
      "_________________________________________________________________\n",
      "block2_conv3 (Conv2D)        (None, 8, 8, 256)         590080    \n",
      "_________________________________________________________________\n",
      "block2_pooling (MaxPooling2D (None, 4, 4, 256)         0         \n",
      "_________________________________________________________________\n",
      "block3_conv0 (Conv2D)        (None, 4, 4, 512)         1180160   \n",
      "_________________________________________________________________\n",
      "block3_conv1 (Conv2D)        (None, 4, 4, 512)         2359808   \n",
      "_________________________________________________________________\n",
      "block3_conv2 (Conv2D)        (None, 4, 4, 512)         2359808   \n",
      "_________________________________________________________________\n",
      "block3_conv3 (Conv2D)        (None, 4, 4, 512)         2359808   \n",
      "_________________________________________________________________\n",
      "block3_pooling (MaxPooling2D (None, 2, 2, 512)         0         \n",
      "_________________________________________________________________\n",
      "block4_conv0 (Conv2D)        (None, 2, 2, 512)         2359808   \n",
      "_________________________________________________________________\n",
      "block4_conv1 (Conv2D)        (None, 2, 2, 512)         2359808   \n",
      "_________________________________________________________________\n",
      "block4_conv2 (Conv2D)        (None, 2, 2, 512)         2359808   \n",
      "_________________________________________________________________\n",
      "block4_conv3 (Conv2D)        (None, 2, 2, 512)         2359808   \n",
      "_________________________________________________________________\n",
      "block4_pooling (MaxPooling2D (None, 1, 1, 512)         0         \n",
      "_________________________________________________________________\n",
      "flatten (Flatten)            (None, 512)               0         \n",
      "_________________________________________________________________\n",
      "fc1 (Dense)                  (None, 4096)              2101248   \n",
      "_________________________________________________________________\n",
      "fc2 (Dense)                  (None, 4096)              16781312  \n",
      "_________________________________________________________________\n",
      "predictions (Dense)          (None, 10)                40970     \n",
      "=================================================================\n",
      "Total params: 38,947,914\n",
      "Trainable params: 38,947,914\n",
      "Non-trainable params: 0\n",
      "_________________________________________________________________\n"
     ]
    }
   ],
   "source": [
    "# 원하는 블록의 설계에 따라 매개변수로 리스트를 전달해 줍니다.\n",
    "vgg_19 = build_vgg(\n",
    "    num_cnn_list=[2,2,4,4,4],\n",
    "    channel_list=[64,128,256,512,512]\n",
    ")\n",
    "\n",
    "vgg_19.summary()"
   ]
  },
  {
   "cell_type": "markdown",
   "metadata": {},
   "source": [
    "## Ablation Study 실습 (4) VGG-16 vs VGG-19\n",
    "이제 본격적으로 위에서 준비한 데이터셋과 모델의 성능 비교를 위해서 모델을 훈련하고 평가하겠습니다.\n",
    "\n",
    "VGG는 레이어의 차이를 위해서 VGG-16과 VGG-19를 비교해보도록 하겠습니다.\n",
    "\n",
    "우선 CIFAR-10 데이터셋을 불러옵시다."
   ]
  },
  {
   "cell_type": "code",
   "execution_count": 19,
   "metadata": {},
   "outputs": [],
   "source": [
    "BATCH_SIZE = 256\n",
    "EPOCH = 40"
   ]
  },
  {
   "cell_type": "code",
   "execution_count": 20,
   "metadata": {},
   "outputs": [],
   "source": [
    "(ds_train, ds_test), ds_info = tfds.load(\n",
    "    'cifar10',\n",
    "    split=['train', 'test'],\n",
    "    as_supervised=True,\n",
    "    shuffle_files=True,\n",
    "    with_info=True,\n",
    ")\n",
    "ds_train = apply_normalize_on_dataset(ds_train, batch_size=BATCH_SIZE)\n",
    "ds_test = apply_normalize_on_dataset(ds_test, batch_size=BATCH_SIZE)"
   ]
  },
  {
   "cell_type": "markdown",
   "metadata": {},
   "source": [
    "### VGG-16 모델을 만들고 훈련시켜 줍니다.\n",
    "\n",
    "잠깐! 이 작업은 시간이 상당히 소요됩니다. BATCH_SIZE가 커지면 소요시간이 좀 줄어드는 효과가 있습니다만, 1epoch당 1분 이상 소요될 수도 있습니다. 이 훈련은 40Epoch 정도 수행하는 것을 권장하지만, 20Epoch 정도로도 어느정도 근접하는 성능을 얻을 수는 있을 것입니다."
   ]
  },
  {
   "cell_type": "code",
   "execution_count": 21,
   "metadata": {},
   "outputs": [
    {
     "name": "stdout",
     "output_type": "stream",
     "text": [
      "Epoch 1/40\n",
      "195/195 [==============================] - 34s 176ms/step - loss: 2.1954 - accuracy: 0.1876 - val_loss: 2.0707 - val_accuracy: 0.2413\n",
      "Epoch 2/40\n",
      "195/195 [==============================] - 24s 122ms/step - loss: 2.0035 - accuracy: 0.2755 - val_loss: 1.9058 - val_accuracy: 0.3233\n",
      "Epoch 3/40\n",
      "195/195 [==============================] - 17s 85ms/step - loss: 1.8708 - accuracy: 0.3244 - val_loss: 1.8295 - val_accuracy: 0.3480\n",
      "Epoch 4/40\n",
      "195/195 [==============================] - 17s 87ms/step - loss: 1.7604 - accuracy: 0.3676 - val_loss: 1.6930 - val_accuracy: 0.3988\n",
      "Epoch 5/40\n",
      "195/195 [==============================] - 16s 84ms/step - loss: 1.6818 - accuracy: 0.3951 - val_loss: 1.6340 - val_accuracy: 0.4110\n",
      "Epoch 6/40\n",
      "195/195 [==============================] - 17s 85ms/step - loss: 1.6165 - accuracy: 0.4206 - val_loss: 1.6127 - val_accuracy: 0.4184\n",
      "Epoch 7/40\n",
      "195/195 [==============================] - 17s 85ms/step - loss: 1.5613 - accuracy: 0.4345 - val_loss: 1.6072 - val_accuracy: 0.4240\n",
      "Epoch 8/40\n",
      "195/195 [==============================] - 17s 85ms/step - loss: 1.5258 - accuracy: 0.4507 - val_loss: 1.5217 - val_accuracy: 0.4548\n",
      "Epoch 9/40\n",
      "195/195 [==============================] - 17s 86ms/step - loss: 1.4798 - accuracy: 0.4697 - val_loss: 1.4163 - val_accuracy: 0.4868\n",
      "Epoch 10/40\n",
      "195/195 [==============================] - 17s 87ms/step - loss: 1.4449 - accuracy: 0.4775 - val_loss: 1.4349 - val_accuracy: 0.4899\n",
      "Epoch 11/40\n",
      "195/195 [==============================] - 16s 84ms/step - loss: 1.3957 - accuracy: 0.4995 - val_loss: 1.3714 - val_accuracy: 0.5095\n",
      "Epoch 12/40\n",
      "195/195 [==============================] - 17s 85ms/step - loss: 1.3639 - accuracy: 0.5118 - val_loss: 1.3985 - val_accuracy: 0.4868\n",
      "Epoch 13/40\n",
      "195/195 [==============================] - 16s 83ms/step - loss: 1.3259 - accuracy: 0.5268 - val_loss: 1.3287 - val_accuracy: 0.5276\n",
      "Epoch 14/40\n",
      "195/195 [==============================] - 16s 84ms/step - loss: 1.2940 - accuracy: 0.5382 - val_loss: 1.3322 - val_accuracy: 0.5201\n",
      "Epoch 15/40\n",
      "195/195 [==============================] - 16s 83ms/step - loss: 1.2701 - accuracy: 0.5477 - val_loss: 1.2598 - val_accuracy: 0.5465\n",
      "Epoch 16/40\n",
      "195/195 [==============================] - 16s 84ms/step - loss: 1.2344 - accuracy: 0.5581 - val_loss: 1.2366 - val_accuracy: 0.5652\n",
      "Epoch 17/40\n",
      "195/195 [==============================] - 16s 82ms/step - loss: 1.2015 - accuracy: 0.5749 - val_loss: 1.1954 - val_accuracy: 0.5703\n",
      "Epoch 18/40\n",
      "195/195 [==============================] - 16s 83ms/step - loss: 1.1724 - accuracy: 0.5828 - val_loss: 1.2680 - val_accuracy: 0.5439\n",
      "Epoch 19/40\n",
      "195/195 [==============================] - 16s 84ms/step - loss: 1.1403 - accuracy: 0.5940 - val_loss: 1.2009 - val_accuracy: 0.5747\n",
      "Epoch 20/40\n",
      "195/195 [==============================] - 17s 86ms/step - loss: 1.1044 - accuracy: 0.6078 - val_loss: 1.1911 - val_accuracy: 0.5763\n",
      "Epoch 21/40\n",
      "195/195 [==============================] - 16s 83ms/step - loss: 1.0864 - accuracy: 0.6117 - val_loss: 1.1691 - val_accuracy: 0.5768\n",
      "Epoch 22/40\n",
      "195/195 [==============================] - 16s 84ms/step - loss: 1.0589 - accuracy: 0.6255 - val_loss: 1.1632 - val_accuracy: 0.5852\n",
      "Epoch 23/40\n",
      "195/195 [==============================] - 16s 84ms/step - loss: 1.0351 - accuracy: 0.6341 - val_loss: 1.1651 - val_accuracy: 0.5787\n",
      "Epoch 24/40\n",
      "195/195 [==============================] - 16s 83ms/step - loss: 1.0042 - accuracy: 0.6429 - val_loss: 1.1264 - val_accuracy: 0.6014\n",
      "Epoch 25/40\n",
      "195/195 [==============================] - 16s 83ms/step - loss: 0.9798 - accuracy: 0.6544 - val_loss: 1.1251 - val_accuracy: 0.5975\n",
      "Epoch 26/40\n",
      "195/195 [==============================] - 16s 82ms/step - loss: 0.9490 - accuracy: 0.6643 - val_loss: 1.1235 - val_accuracy: 0.6022\n",
      "Epoch 27/40\n",
      "195/195 [==============================] - 16s 83ms/step - loss: 0.9220 - accuracy: 0.6744 - val_loss: 1.1566 - val_accuracy: 0.6002\n",
      "Epoch 28/40\n",
      "195/195 [==============================] - 16s 84ms/step - loss: 0.9004 - accuracy: 0.6837 - val_loss: 1.1198 - val_accuracy: 0.6054\n",
      "Epoch 29/40\n",
      "195/195 [==============================] - 16s 83ms/step - loss: 0.8716 - accuracy: 0.6921 - val_loss: 1.1423 - val_accuracy: 0.6010\n",
      "Epoch 30/40\n",
      "195/195 [==============================] - 16s 83ms/step - loss: 0.8537 - accuracy: 0.6983 - val_loss: 1.1515 - val_accuracy: 0.5996\n",
      "Epoch 31/40\n",
      "195/195 [==============================] - 16s 84ms/step - loss: 0.8253 - accuracy: 0.7098 - val_loss: 1.1273 - val_accuracy: 0.6121\n",
      "Epoch 32/40\n",
      "195/195 [==============================] - 16s 84ms/step - loss: 0.8005 - accuracy: 0.7172 - val_loss: 1.1274 - val_accuracy: 0.6242\n",
      "Epoch 33/40\n",
      "195/195 [==============================] - 17s 88ms/step - loss: 0.7756 - accuracy: 0.7301 - val_loss: 1.1092 - val_accuracy: 0.6184\n",
      "Epoch 34/40\n",
      "195/195 [==============================] - 16s 83ms/step - loss: 0.7596 - accuracy: 0.7304 - val_loss: 1.0760 - val_accuracy: 0.6352\n",
      "Epoch 35/40\n",
      "195/195 [==============================] - 16s 83ms/step - loss: 0.7280 - accuracy: 0.7426 - val_loss: 1.1168 - val_accuracy: 0.6214\n",
      "Epoch 36/40\n",
      "195/195 [==============================] - 17s 85ms/step - loss: 0.7130 - accuracy: 0.7491 - val_loss: 1.0839 - val_accuracy: 0.6347\n",
      "Epoch 37/40\n",
      "195/195 [==============================] - 16s 84ms/step - loss: 0.6788 - accuracy: 0.7611 - val_loss: 1.1369 - val_accuracy: 0.6227\n",
      "Epoch 38/40\n",
      "195/195 [==============================] - 16s 83ms/step - loss: 0.6553 - accuracy: 0.7716 - val_loss: 1.1088 - val_accuracy: 0.6283\n",
      "Epoch 39/40\n",
      "195/195 [==============================] - 16s 84ms/step - loss: 0.6360 - accuracy: 0.7768 - val_loss: 1.0990 - val_accuracy: 0.6472\n",
      "Epoch 40/40\n",
      "195/195 [==============================] - 16s 84ms/step - loss: 0.6087 - accuracy: 0.7848 - val_loss: 1.0752 - val_accuracy: 0.6439\n"
     ]
    }
   ],
   "source": [
    "vgg_16.compile(\n",
    "    loss='sparse_categorical_crossentropy',\n",
    "    optimizer=tf.keras.optimizers.SGD(lr=0.01, clipnorm=1.),\n",
    "    metrics=['accuracy'],\n",
    ")\n",
    "\n",
    "history_16 = vgg_16.fit(\n",
    "    ds_train,\n",
    "    steps_per_epoch=int(ds_info.splits['train'].num_examples/BATCH_SIZE),\n",
    "    validation_steps=int(ds_info.splits['test'].num_examples/BATCH_SIZE),\n",
    "    epochs=EPOCH,\n",
    "    validation_data=ds_test,\n",
    "    verbose=1,\n",
    "    use_multiprocessing=True,\n",
    ")"
   ]
  },
  {
   "cell_type": "markdown",
   "metadata": {},
   "source": [
    "### VGG-19 모델을 만들고 훈련시켜 줍니다.\n",
    "\n",
    "파라미터가 더 많은 VGG-19는 VGG-16보다 1/4 정도 훈련 시간이 더 걸립니다. Epoch 수나 BATCH_SIZE를 잘 조절해 주세요."
   ]
  },
  {
   "cell_type": "code",
   "execution_count": 22,
   "metadata": {},
   "outputs": [
    {
     "name": "stdout",
     "output_type": "stream",
     "text": [
      "Epoch 1/40\n",
      "195/195 [==============================] - 19s 99ms/step - loss: 2.2319 - accuracy: 0.1584 - val_loss: 2.1211 - val_accuracy: 0.2250\n",
      "Epoch 2/40\n",
      "195/195 [==============================] - 19s 97ms/step - loss: 2.0327 - accuracy: 0.2571 - val_loss: 1.9561 - val_accuracy: 0.2727\n",
      "Epoch 3/40\n",
      "195/195 [==============================] - 19s 98ms/step - loss: 1.8911 - accuracy: 0.3116 - val_loss: 1.8826 - val_accuracy: 0.3109\n",
      "Epoch 4/40\n",
      "195/195 [==============================] - 20s 101ms/step - loss: 1.7745 - accuracy: 0.3572 - val_loss: 1.6798 - val_accuracy: 0.4086\n",
      "Epoch 5/40\n",
      "195/195 [==============================] - 20s 102ms/step - loss: 1.6856 - accuracy: 0.3908 - val_loss: 1.6612 - val_accuracy: 0.3952\n",
      "Epoch 6/40\n",
      "195/195 [==============================] - 20s 100ms/step - loss: 1.6214 - accuracy: 0.4139 - val_loss: 1.5862 - val_accuracy: 0.4351\n",
      "Epoch 7/40\n",
      "195/195 [==============================] - 20s 101ms/step - loss: 1.5730 - accuracy: 0.4306 - val_loss: 1.5645 - val_accuracy: 0.4435\n",
      "Epoch 8/40\n",
      "195/195 [==============================] - 20s 100ms/step - loss: 1.5083 - accuracy: 0.4539 - val_loss: 1.4661 - val_accuracy: 0.4652\n",
      "Epoch 9/40\n",
      "195/195 [==============================] - 20s 102ms/step - loss: 1.4683 - accuracy: 0.4695 - val_loss: 1.4755 - val_accuracy: 0.4658\n",
      "Epoch 10/40\n",
      "195/195 [==============================] - 19s 100ms/step - loss: 1.4202 - accuracy: 0.4851 - val_loss: 1.4268 - val_accuracy: 0.4803\n",
      "Epoch 11/40\n",
      "195/195 [==============================] - 19s 99ms/step - loss: 1.3855 - accuracy: 0.4994 - val_loss: 1.3704 - val_accuracy: 0.5084\n",
      "Epoch 12/40\n",
      "195/195 [==============================] - 19s 99ms/step - loss: 1.3471 - accuracy: 0.5142 - val_loss: 1.3202 - val_accuracy: 0.5198\n",
      "Epoch 13/40\n",
      "195/195 [==============================] - 19s 98ms/step - loss: 1.3082 - accuracy: 0.5285 - val_loss: 1.3030 - val_accuracy: 0.5276\n",
      "Epoch 14/40\n",
      "195/195 [==============================] - 19s 100ms/step - loss: 1.2750 - accuracy: 0.5425 - val_loss: 1.2932 - val_accuracy: 0.5330\n",
      "Epoch 15/40\n",
      "195/195 [==============================] - 19s 98ms/step - loss: 1.2338 - accuracy: 0.5580 - val_loss: 1.2277 - val_accuracy: 0.5542\n",
      "Epoch 16/40\n",
      "195/195 [==============================] - 19s 98ms/step - loss: 1.2031 - accuracy: 0.5678 - val_loss: 1.2285 - val_accuracy: 0.5564\n",
      "Epoch 17/40\n",
      "195/195 [==============================] - 20s 101ms/step - loss: 1.1689 - accuracy: 0.5814 - val_loss: 1.2347 - val_accuracy: 0.5650\n",
      "Epoch 18/40\n",
      "195/195 [==============================] - 19s 100ms/step - loss: 1.1374 - accuracy: 0.5935 - val_loss: 1.2016 - val_accuracy: 0.5817\n",
      "Epoch 19/40\n",
      "195/195 [==============================] - 20s 100ms/step - loss: 1.1053 - accuracy: 0.6059 - val_loss: 1.1498 - val_accuracy: 0.5901\n",
      "Epoch 20/40\n",
      "195/195 [==============================] - 20s 100ms/step - loss: 1.0790 - accuracy: 0.6163 - val_loss: 1.1977 - val_accuracy: 0.5738\n",
      "Epoch 21/40\n",
      "195/195 [==============================] - 20s 100ms/step - loss: 1.0395 - accuracy: 0.6302 - val_loss: 1.1409 - val_accuracy: 0.5921\n",
      "Epoch 22/40\n",
      "195/195 [==============================] - 19s 99ms/step - loss: 1.0159 - accuracy: 0.6393 - val_loss: 1.1911 - val_accuracy: 0.5767\n",
      "Epoch 23/40\n",
      "195/195 [==============================] - 20s 100ms/step - loss: 0.9892 - accuracy: 0.6497 - val_loss: 1.0998 - val_accuracy: 0.6163\n",
      "Epoch 24/40\n",
      "195/195 [==============================] - 19s 100ms/step - loss: 0.9657 - accuracy: 0.6578 - val_loss: 1.1202 - val_accuracy: 0.6062\n",
      "Epoch 25/40\n",
      "195/195 [==============================] - 20s 100ms/step - loss: 0.9282 - accuracy: 0.6701 - val_loss: 1.1837 - val_accuracy: 0.5776\n",
      "Epoch 26/40\n",
      "195/195 [==============================] - 20s 100ms/step - loss: 0.9076 - accuracy: 0.6807 - val_loss: 1.0941 - val_accuracy: 0.6201\n",
      "Epoch 27/40\n",
      "195/195 [==============================] - 20s 100ms/step - loss: 0.8751 - accuracy: 0.6914 - val_loss: 1.0692 - val_accuracy: 0.6252\n",
      "Epoch 28/40\n",
      "195/195 [==============================] - 20s 100ms/step - loss: 0.8580 - accuracy: 0.6976 - val_loss: 1.0723 - val_accuracy: 0.6290\n",
      "Epoch 29/40\n",
      "195/195 [==============================] - 19s 100ms/step - loss: 0.8239 - accuracy: 0.7100 - val_loss: 1.0934 - val_accuracy: 0.6235\n",
      "Epoch 30/40\n",
      "195/195 [==============================] - 19s 100ms/step - loss: 0.7978 - accuracy: 0.7178 - val_loss: 1.0883 - val_accuracy: 0.6215\n",
      "Epoch 31/40\n",
      "195/195 [==============================] - 19s 100ms/step - loss: 0.7745 - accuracy: 0.7274 - val_loss: 1.0484 - val_accuracy: 0.6373\n",
      "Epoch 32/40\n",
      "195/195 [==============================] - 19s 100ms/step - loss: 0.7447 - accuracy: 0.7383 - val_loss: 1.0660 - val_accuracy: 0.6265\n",
      "Epoch 33/40\n",
      "195/195 [==============================] - 19s 100ms/step - loss: 0.7231 - accuracy: 0.7460 - val_loss: 1.0671 - val_accuracy: 0.6435\n",
      "Epoch 34/40\n",
      "195/195 [==============================] - 20s 100ms/step - loss: 0.6906 - accuracy: 0.7601 - val_loss: 1.0429 - val_accuracy: 0.6455\n",
      "Epoch 35/40\n",
      "195/195 [==============================] - 19s 100ms/step - loss: 0.6621 - accuracy: 0.7655 - val_loss: 1.0724 - val_accuracy: 0.6358\n",
      "Epoch 36/40\n",
      "195/195 [==============================] - 20s 101ms/step - loss: 0.6397 - accuracy: 0.7744 - val_loss: 1.0574 - val_accuracy: 0.6476\n",
      "Epoch 37/40\n",
      "195/195 [==============================] - 19s 98ms/step - loss: 0.6162 - accuracy: 0.7834 - val_loss: 1.0968 - val_accuracy: 0.6403\n",
      "Epoch 38/40\n",
      "195/195 [==============================] - 19s 98ms/step - loss: 0.5824 - accuracy: 0.7947 - val_loss: 1.0592 - val_accuracy: 0.6555\n",
      "Epoch 39/40\n",
      "195/195 [==============================] - 19s 99ms/step - loss: 0.5563 - accuracy: 0.8018 - val_loss: 1.1438 - val_accuracy: 0.6373\n",
      "Epoch 40/40\n",
      "195/195 [==============================] - 19s 100ms/step - loss: 0.5290 - accuracy: 0.8144 - val_loss: 1.1201 - val_accuracy: 0.6439\n"
     ]
    }
   ],
   "source": [
    "vgg_19.compile(\n",
    "    loss='sparse_categorical_crossentropy',\n",
    "    optimizer=tf.keras.optimizers.SGD(lr=0.01, clipnorm=1.),\n",
    "    metrics=['accuracy'],\n",
    ")\n",
    "\n",
    "history_19 = vgg_19.fit(\n",
    "    ds_train,\n",
    "    steps_per_epoch=int(ds_info.splits['train'].num_examples/BATCH_SIZE),\n",
    "    validation_steps=int(ds_info.splits['test'].num_examples/BATCH_SIZE),\n",
    "    epochs=EPOCH,\n",
    "    validation_data=ds_test,\n",
    "    verbose=1,\n",
    "    use_multiprocessing=True,\n",
    ")"
   ]
  },
  {
   "cell_type": "markdown",
   "metadata": {},
   "source": [
    "이제 VGG-16과 VGG-19를 그래프를 그리고 비교해보도록 하겠습니다. 먼저 훈련 손실(training loss)이 어떻게 다르게 진행되는지 비교해봅시다."
   ]
  },
  {
   "cell_type": "code",
   "execution_count": 24,
   "metadata": {},
   "outputs": [
    {
     "data": {
      "image/png": "[encoded data removed]",
      "text/plain": [
       "<Figure size 432x288 with 1 Axes>"
      ]
     },
     "metadata": {
      "needs_background": "light"
     },
     "output_type": "display_data"
    }
   ],
   "source": [
    "import matplotlib.pyplot as plt\n",
    "\n",
    "plt.plot(history_16.history['loss'], 'r')\n",
    "plt.plot(history_19.history['loss'], 'b')\n",
    "plt.title('Model training loss')\n",
    "plt.ylabel('Loss')\n",
    "plt.xlabel('Epoch')\n",
    "plt.legend(['vgg_16', 'vgg_19'], loc='upper left')\n",
    "plt.show()"
   ]
  },
  {
   "cell_type": "markdown",
   "metadata": {},
   "source": [
    "그리고 검증 정확도(validation accuracy)를 비교해 봅시다."
   ]
  },
  {
   "cell_type": "code",
   "execution_count": 25,
   "metadata": {},
   "outputs": [
    {
     "data": {
      "image/png": "[encoded data removed]",
      "text/plain": [
       "<Figure size 432x288 with 1 Axes>"
      ]
     },
     "metadata": {
      "needs_background": "light"
     },
     "output_type": "display_data"
    }
   ],
   "source": [
    "plt.plot(history_16.history['val_accuracy'], 'r')\n",
    "plt.plot(history_19.history['val_accuracy'], 'b')\n",
    "plt.title('Model validation accuracy')\n",
    "plt.ylabel('Accuracy')\n",
    "plt.xlabel('Epoch')\n",
    "plt.legend(['vgg_16', 'vgg_19'], loc='upper left')\n",
    "plt.show()"
   ]
  },
  {
   "cell_type": "markdown",
   "metadata": {},
   "source": [
    "VGG-19가 조금 더 높은 정확도를 보입니다. 이후의 그래프를 더 보려면 epochs 를 늘려서 학습시켜 보시기 바랍니다."
   ]
  },
  {
   "cell_type": "code",
   "execution_count": null,
   "metadata": {},
   "outputs": [],
   "source": []
  },
  {
   "cell_type": "code",
   "execution_count": null,
   "metadata": {},
   "outputs": [],
   "source": []
  },
  {
   "cell_type": "code",
   "execution_count": null,
   "metadata": {},
   "outputs": [],
   "source": []
  },
  {
   "cell_type": "code",
   "execution_count": null,
   "metadata": {},
   "outputs": [],
   "source": []
  },
  {
   "cell_type": "code",
   "execution_count": null,
   "metadata": {},
   "outputs": [],
   "source": []
  },
  {
   "cell_type": "code",
   "execution_count": null,
   "metadata": {},
   "outputs": [],
   "source": []
  }
 ],
 "metadata": {
  "kernelspec": {
   "display_name": "aiffel",
   "language": "python",
   "name": "aiffel"
  },
  "language_info": {
   "codemirror_mode": {
    "name": "ipython",
    "version": 3
   },
   "file_extension": ".py",
   "mimetype": "text/x-python",
   "name": "python",
   "nbconvert_exporter": "python",
   "pygments_lexer": "ipython3",
   "version": "3.7.6"
  }
 },
 "nbformat": 4,
 "nbformat_minor": 4
}
